{
 "cells": [
  {
   "cell_type": "code",
   "execution_count": 2,
   "metadata": {},
   "outputs": [],
   "source": [
    "import pickle\n",
    "import pandas as pd"
   ]
  },
  {
   "cell_type": "code",
   "execution_count": 14,
   "metadata": {},
   "outputs": [],
   "source": [
    "df = pd.read_csv(\"/Users/anthonymoubarak/Desktop/embedded_bible.csv\")\n",
    "\n",
    "df_verses = pd.DataFrame(df['Verses'])"
   ]
  },
  {
   "cell_type": "code",
   "execution_count": 15,
   "metadata": {},
   "outputs": [
    {
     "name": "stderr",
     "output_type": "stream",
     "text": [
      "/var/folders/r_/fklxc5m54kl125_d3kkyjzp40000gn/T/ipykernel_93453/3884975247.py:2: FutureWarning: The default value of regex will change from True to False in a future version.\n",
      "  df_verses['Verses'] = df_verses['Verses'].str.replace('^\\d+:\\d+\\s+', '')\n"
     ]
    }
   ],
   "source": [
    "# extract the verses only\n",
    "df_verses['Verses'] = df_verses['Verses'].str.replace('^\\d+:\\d+\\s+', '')"
   ]
  },
  {
   "cell_type": "code",
   "execution_count": 16,
   "metadata": {},
   "outputs": [
    {
     "data": {
      "text/html": [
       "<div>\n",
       "<style scoped>\n",
       "    .dataframe tbody tr th:only-of-type {\n",
       "        vertical-align: middle;\n",
       "    }\n",
       "\n",
       "    .dataframe tbody tr th {\n",
       "        vertical-align: top;\n",
       "    }\n",
       "\n",
       "    .dataframe thead th {\n",
       "        text-align: right;\n",
       "    }\n",
       "</style>\n",
       "<table border=\"1\" class=\"dataframe\">\n",
       "  <thead>\n",
       "    <tr style=\"text-align: right;\">\n",
       "      <th></th>\n",
       "      <th>Verses</th>\n",
       "    </tr>\n",
       "  </thead>\n",
       "  <tbody>\n",
       "    <tr>\n",
       "      <th>0</th>\n",
       "      <td>The Gospel According to Saint Matthew</td>\n",
       "    </tr>\n",
       "    <tr>\n",
       "      <th>1</th>\n",
       "      <td>The book of the generation of Jesus Christ, th...</td>\n",
       "    </tr>\n",
       "    <tr>\n",
       "      <th>2</th>\n",
       "      <td>Abraham begat Isaac; and Isaac begat Jacob; an...</td>\n",
       "    </tr>\n",
       "    <tr>\n",
       "      <th>3</th>\n",
       "      <td>And Judas begat Phares and Zara of Thamar; and...</td>\n",
       "    </tr>\n",
       "    <tr>\n",
       "      <th>4</th>\n",
       "      <td>And Aram begat Aminadab; and Aminadab begat Na...</td>\n",
       "    </tr>\n",
       "    <tr>\n",
       "      <th>...</th>\n",
       "      <td>...</td>\n",
       "    </tr>\n",
       "    <tr>\n",
       "      <th>8016</th>\n",
       "      <td>For I testify unto every man that heareth the ...</td>\n",
       "    </tr>\n",
       "    <tr>\n",
       "      <th>8017</th>\n",
       "      <td>And if any man shall take away from the words ...</td>\n",
       "    </tr>\n",
       "    <tr>\n",
       "      <th>8018</th>\n",
       "      <td>He which testifieth these things saith, Surely...</td>\n",
       "    </tr>\n",
       "    <tr>\n",
       "      <th>8019</th>\n",
       "      <td>Even so, come, Lord Jesus.</td>\n",
       "    </tr>\n",
       "    <tr>\n",
       "      <th>8020</th>\n",
       "      <td>The grace of our Lord Jesus Christ be with you...</td>\n",
       "    </tr>\n",
       "  </tbody>\n",
       "</table>\n",
       "<p>8021 rows × 1 columns</p>\n",
       "</div>"
      ],
      "text/plain": [
       "                                                 Verses\n",
       "0                 The Gospel According to Saint Matthew\n",
       "1     The book of the generation of Jesus Christ, th...\n",
       "2     Abraham begat Isaac; and Isaac begat Jacob; an...\n",
       "3     And Judas begat Phares and Zara of Thamar; and...\n",
       "4     And Aram begat Aminadab; and Aminadab begat Na...\n",
       "...                                                 ...\n",
       "8016  For I testify unto every man that heareth the ...\n",
       "8017  And if any man shall take away from the words ...\n",
       "8018  He which testifieth these things saith, Surely...\n",
       "8019                         Even so, come, Lord Jesus.\n",
       "8020  The grace of our Lord Jesus Christ be with you...\n",
       "\n",
       "[8021 rows x 1 columns]"
      ]
     },
     "execution_count": 16,
     "metadata": {},
     "output_type": "execute_result"
    }
   ],
   "source": [
    "df_verses"
   ]
  },
  {
   "cell_type": "code",
   "execution_count": 17,
   "metadata": {},
   "outputs": [],
   "source": [
    "# Save the output to a pickle file \n",
    "\n",
    "df_verses.to_pickle('bible_verses.pickle')"
   ]
  },
  {
   "cell_type": "code",
   "execution_count": null,
   "metadata": {},
   "outputs": [],
   "source": []
  }
 ],
 "metadata": {
  "kernelspec": {
   "display_name": "anly503",
   "language": "python",
   "name": "python3"
  },
  "language_info": {
   "codemirror_mode": {
    "name": "ipython",
    "version": 3
   },
   "file_extension": ".py",
   "mimetype": "text/x-python",
   "name": "python",
   "nbconvert_exporter": "python",
   "pygments_lexer": "ipython3",
   "version": "3.10.8"
  },
  "orig_nbformat": 4
 },
 "nbformat": 4,
 "nbformat_minor": 2
}
